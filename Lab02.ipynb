{
 "cells": [
  {
   "attachments": {},
   "cell_type": "markdown",
   "metadata": {},
   "source": [
    "LAB_02 : The Name Collector's Quest"
   ]
  },
  {
   "cell_type": "code",
   "execution_count": 11,
   "metadata": {},
   "outputs": [],
   "source": [
    "namelist = []\n",
    "def namef():\n",
    "    list_lenght = 100\n",
    "    for i in range(list_lenght):\n",
    "        name = input(\"Enter your name: \")\n",
    "        if (name=='q'):\n",
    "           print(namelist)\n",
    "           break\n",
    "        if name in namelist:\n",
    "            print(\"Name Exist\")\n",
    "            break\n",
    "        namelist.append(name)\n",
    "                                  "
   ]
  },
  {
   "cell_type": "code",
   "execution_count": 13,
   "metadata": {},
   "outputs": [
    {
     "name": "stdout",
     "output_type": "stream",
     "text": [
      "['abc', 'xyz', 'pqr', 'manish', 'neelanjan', 'shubham']\n"
     ]
    }
   ],
   "source": [
    "namef()"
   ]
  },
  {
   "cell_type": "code",
   "execution_count": null,
   "metadata": {},
   "outputs": [],
   "source": [
    "print(namelist)"
   ]
  }
 ],
 "metadata": {
  "kernelspec": {
   "display_name": "Python 3",
   "language": "python",
   "name": "python3"
  },
  "language_info": {
   "codemirror_mode": {
    "name": "ipython",
    "version": 3
   },
   "file_extension": ".py",
   "mimetype": "text/x-python",
   "name": "python",
   "nbconvert_exporter": "python",
   "pygments_lexer": "ipython3",
   "version": "3.10.1"
  },
  "orig_nbformat": 4
 },
 "nbformat": 4,
 "nbformat_minor": 2
}
