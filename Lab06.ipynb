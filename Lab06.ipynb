{
 "cells": [
  {
   "cell_type": "markdown",
   "metadata": {},
   "source": [
    "Lab 06 : Vowel Counter!"
   ]
  },
  {
   "cell_type": "code",
   "execution_count": 5,
   "metadata": {},
   "outputs": [],
   "source": [
    "def vowel_counter(val):\n",
    "\n",
    "    vowels = [\"a\", \"e\", \"i\", \"o\", \"u\"]   # list showing the vowels in a string\n",
    "    t_vowels = [] \n",
    "\n",
    "    for vowel in vowels:  # the loop helps to print the count of each vowel and the total count of vowels\n",
    "        count = 0 \n",
    "        for i in val.strip():\n",
    "            if vowel==i or vowel.upper() == i:\n",
    "                t_vowels.append(vowel)\n",
    "                count += 1\n",
    "\n",
    "        print(\"The vowel \" + vowel + \" comes \" + str(count) + \" times.\")\n",
    "    percentage = (len(t_vowels)/len(val))*100\n",
    "    print(\"\\nvowels present in string is \", set(t_vowels))\n",
    "    print(\"\\n\")\n",
    "    print(\"percentage of vowels in the string is\", percentage)\n",
    "    print(\"\\n\")\n",
    "    print(\"Total number of vowels in the string is\", len(t_vowels))\n",
    "    print(\"\\n \\n\")\n"
   ]
  },
  {
   "cell_type": "code",
   "execution_count": 6,
   "metadata": {},
   "outputs": [
    {
     "name": "stdout",
     "output_type": "stream",
     "text": [
      "['m', 'a', 'n', 'i', 's', 'h', ' ', 'k', 'u', 'm', 'a', 'r']\n",
      "The vowel a comes 2 times.\n",
      "The vowel e comes 0 times.\n",
      "The vowel i comes 1 times.\n",
      "The vowel o comes 0 times.\n",
      "The vowel u comes 1 times.\n",
      "\n",
      "vowels present in string is  {'i', 'a', 'u'}\n",
      "\n",
      "\n",
      "percentage of vowels in the string is 33.33333333333333\n",
      "\n",
      "\n",
      "Total number of vowels in the string is 4\n",
      "\n",
      " \n",
      "\n",
      "['h', 'e', 'l', 'l', 'o', ' ', 'w', 'o', 'r', 'l', 'd']\n",
      "The vowel a comes 0 times.\n",
      "The vowel e comes 1 times.\n",
      "The vowel i comes 0 times.\n",
      "The vowel o comes 2 times.\n",
      "The vowel u comes 0 times.\n",
      "\n",
      "vowels present in string is  {'e', 'o'}\n",
      "\n",
      "\n",
      "percentage of vowels in the string is 27.27272727272727\n",
      "\n",
      "\n",
      "Total number of vowels in the string is 3\n",
      "\n",
      " \n",
      "\n",
      "['n', 'e', 'e', 'r', 'a', 'j', ' ', 'a', 'n', 'a', 'n', 'd']\n",
      "The vowel a comes 3 times.\n",
      "The vowel e comes 2 times.\n",
      "The vowel i comes 0 times.\n",
      "The vowel o comes 0 times.\n",
      "The vowel u comes 0 times.\n",
      "\n",
      "vowels present in string is  {'e', 'a'}\n",
      "\n",
      "\n",
      "percentage of vowels in the string is 41.66666666666667\n",
      "\n",
      "\n",
      "Total number of vowels in the string is 5\n",
      "\n",
      " \n",
      "\n"
     ]
    }
   ],
   "source": [
    "for item in range(1,4,1):\n",
    "    val = input(\"Enter a string :\") #to take a input from user\n",
    "    val = val.lower() #to convert the string in lower case\n",
    "    print([*val])  # to split a string in character\n",
    "    vowel_counter(val)"
   ]
  }
 ],
 "metadata": {
  "kernelspec": {
   "display_name": "Python 3",
   "language": "python",
   "name": "python3"
  },
  "language_info": {
   "codemirror_mode": {
    "name": "ipython",
    "version": 3
   },
   "file_extension": ".py",
   "mimetype": "text/x-python",
   "name": "python",
   "nbconvert_exporter": "python",
   "pygments_lexer": "ipython3",
   "version": "3.10.1"
  },
  "orig_nbformat": 4
 },
 "nbformat": 4,
 "nbformat_minor": 2
}
