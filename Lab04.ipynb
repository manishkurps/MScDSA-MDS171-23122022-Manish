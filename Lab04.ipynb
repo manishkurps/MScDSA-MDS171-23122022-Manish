{
 "cells": [
  {
   "cell_type": "markdown",
   "metadata": {},
   "source": [
    "Lab04 : A Taste of Success: The Restaurant Management System"
   ]
  },
  {
   "cell_type": "code",
   "execution_count": 3,
   "metadata": {},
   "outputs": [],
   "source": [
    "\n",
    "\n",
    "file = open(\"Rms.txt\",\"a+\")\n",
    "file.write(\"ItemID \\t\\tDate \\t\\tprice\\n\")\n",
    "file.close()\n",
    "def rms(itemID,date,price,):\n",
    "    file = open(\"Rms.txt\",\"a+\")\n",
    "    file.write(f\"{itemID}\\t\\t\\t{date}\\t{price}\\n\")\n",
    "    file.close()\n"
   ]
  },
  {
   "cell_type": "code",
   "execution_count": 4,
   "metadata": {},
   "outputs": [],
   "source": [
    "rms(12,\"01-08-23\",1100)\n",
    "rms(14,\"02-08-23\",800)\n",
    "rms(11,\"03-08-23\",850)\n",
    "rms(12,\"04-08023\",1100)\n",
    "rms(14,\"05-08-23\",800)\n",
    "rms(14,\"06-08-23\",800)\n",
    "rms(12,\"07-08-23\",1100)\n",
    "rms(14,\"08-08-23\",800)\n",
    "rms(14,\"09-08-23\",800)\n",
    "rms(14,\"10-08-23\",800)\n",
    "rms(12,\"11-08-23\",1100)\n",
    "rms(12,\"12-08-23\",1100)\n",
    "rms(14,\"13-08-23\",800)\n",
    "rms(14,\"14-08-23\",800)\n",
    "rms(14,\"15-08-23\",800)\n",
    "rms(12,\"16-08-23\",1100)\n",
    "rms(14,\"17-08-23\",800)\n",
    "\n",
    "\n"
   ]
  }
 ],
 "metadata": {
  "kernelspec": {
   "display_name": "Python 3",
   "language": "python",
   "name": "python3"
  },
  "language_info": {
   "codemirror_mode": {
    "name": "ipython",
    "version": 3
   },
   "file_extension": ".py",
   "mimetype": "text/x-python",
   "name": "python",
   "nbconvert_exporter": "python",
   "pygments_lexer": "ipython3",
   "version": "3.10.1"
  },
  "orig_nbformat": 4
 },
 "nbformat": 4,
 "nbformat_minor": 2
}
