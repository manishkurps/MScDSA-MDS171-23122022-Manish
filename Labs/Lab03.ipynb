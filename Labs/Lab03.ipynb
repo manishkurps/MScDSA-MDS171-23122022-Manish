{
 "cells": [
  {
   "cell_type": "markdown",
   "metadata": {},
   "source": [
    "Labo3 : The Tale of Numbers' Harmony"
   ]
  },
  {
   "cell_type": "code",
   "execution_count": null,
   "metadata": {},
   "outputs": [],
   "source": [
    "def function(number):\n",
    "    total=0\n",
    "    count=0\n",
    "    minimum=number[0]\n",
    "    maximum=number[0]\n",
    "    for i in number:\n",
    "        total=total+i\n",
    "        count=count+1\n",
    "    if i>minimum:\n",
    "        minimum=i\n",
    "    elif i<maximum:\n",
    "        maximum=i\n",
    "    mean=total//count\n",
    "    return total,count,mean,maximum,minimum\n",
    "l1 = [761, 123, 585, 275, 194, 840, 999, 622, 763, 40, 825, 687, 402, 338, 611, 987, 739, 95, 819, 568, 320, 126, 688, 948, 514, 223, 751, 379, 857, 767, 492, 162, 437, 934, 430, 343, 725, 511, 580, 678, 708, 823, 346, 179, 786, 663, 195, 890, 267, 502, 214, 300, 786, 961, 235, 559, 992, 919, 948, 318, 57, 787, 653, 317, 305, 172, 966, 182, 970, 17, 89, 624, 629, 595, 485, 752, 984, 978, 460, 124, 321, 256, 614, 852, 811, 561, 127, 207, 406, 615, 888, 391, 691, 470, 911, 401, 137, 600, 478, 682]\n",
    "total,count,mean,minimum,maximum=function(l1)\n",
    "print(total)\n",
    "print(count)\n",
    "print(\"the mean is :\",mean)\n",
    "print(\"the minimum value is :\",minimum)\n",
    "print(\"the maximum value is :\",maximum)\n",
    "print(\"the range is :\",maximum-minimum)\n"
   ]
  }
 ],
 "metadata": {
  "kernelspec": {
   "display_name": "Python 3",
   "language": "python",
   "name": "python3"
  },
  "language_info": {
   "codemirror_mode": {
    "name": "ipython",
    "version": 3
   },
   "file_extension": ".py",
   "mimetype": "text/x-python",
   "name": "python",
   "nbconvert_exporter": "python",
   "pygments_lexer": "ipython3",
   "version": "3.10.1"
  },
  "orig_nbformat": 4
 },
 "nbformat": 4,
 "nbformat_minor": 2
}
