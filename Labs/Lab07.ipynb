{
 "cells": [
  {
   "cell_type": "markdown",
   "metadata": {},
   "source": [
    "Lab 07 : My Menu driven Resturant"
   ]
  },
  {
   "cell_type": "code",
   "execution_count": 1,
   "metadata": {},
   "outputs": [
    {
     "name": "stdout",
     "output_type": "stream",
     "text": [
      "\n",
      "Restaurant Management System\n",
      "1. Take Order\n",
      "2. Display Orders\n",
      "3. Exit\n",
      "Menu:\n",
      "1. Burger - 120\n",
      "2. Pizza - 250\n",
      "3. Pasta - 70\n",
      "4. Noodles - 100\n",
      "\n",
      "Restaurant Management System\n",
      "1. Take Order\n",
      "2. Display Orders\n",
      "3. Exit\n",
      "Menu:\n",
      "1. Burger - 120\n",
      "2. Pizza - 250\n",
      "3. Pasta - 70\n",
      "4. Noodles - 100\n",
      "\n",
      "Restaurant Management System\n",
      "1. Take Order\n",
      "2. Display Orders\n",
      "3. Exit\n",
      "Current Orders:\n",
      "['Burger', 'Pasta']\n",
      "\n",
      "Restaurant Management System\n",
      "1. Take Order\n",
      "2. Display Orders\n",
      "3. Exit\n",
      "Thank you for choosing us\n"
     ]
    }
   ],
   "source": [
    "import random\n",
    "orders = []\n",
    "def order_id():\n",
    "    r1 = random.randint(0,9)\n",
    "    r2 = random.randint(0,9)\n",
    "    r3 = random.randint(0,9)\n",
    "    r4 = random.randint(0,9)\n",
    "    r5 = random.randint(0,9)\n",
    "# Function to take orders\n",
    "def take_order(orders):\n",
    "    print(\"Menu:\")\n",
    "    print(\"1. Burger - 120\")\n",
    "    print(\"2. Pizza - 250\")\n",
    "    print(\"3. Pasta - 70\")\n",
    "    print(\"4. Noodles - 100\")\n",
    "    \n",
    "    order = input(\"Enter the item number you want to order (1/2/3/4): \")\n",
    "    \n",
    "    if order == '1':\n",
    "        orders.append(\"Burger\")\n",
    "    elif order == '2':\n",
    "        orders.append(\"Pizza\")\n",
    "    elif order == '3':\n",
    "        orders.append(\"Pasta\")\n",
    "    elif order == '4':\n",
    "        orders.append(\"Noodles\")\n",
    "    else:\n",
    "        print(\"Invalid choice. Please select a valid item.\")\n",
    "        take_order()\n",
    "\n",
    "# Function to display orders\n",
    "def display_orders(orders):\n",
    "    if not orders:\n",
    "        print(\"No orders yet.\")\n",
    "    else:\n",
    "        print(\"Current Orders:\")\n",
    "        print(orders)\n",
    "        \n",
    "# Main loop\n",
    "while True:\n",
    "    print(\"\\nRestaurant Management System\")\n",
    "    print(\"1. Take Order\")\n",
    "    print(\"2. Display Orders\")\n",
    "    print(\"3. Exit\")\n",
    "    \n",
    "    choice = input(\"Enter your choice (1/2/3): \")\n",
    "    \n",
    "    if int(choice) == 1:\n",
    "       take_order(orders)\n",
    "    elif int(choice) == 2:\n",
    "        display_orders(orders)\n",
    "    elif int(choice) == 3:\n",
    "        print(\"Thank you for choosing us\")\n",
    "        break\n",
    "    else:\n",
    "        print(\"Invalid choice. Please select a valid option.\")\n"
   ]
  }
 ],
 "metadata": {
  "kernelspec": {
   "display_name": "Python 3",
   "language": "python",
   "name": "python3"
  },
  "language_info": {
   "codemirror_mode": {
    "name": "ipython",
    "version": 3
   },
   "file_extension": ".py",
   "mimetype": "text/x-python",
   "name": "python",
   "nbconvert_exporter": "python",
   "pygments_lexer": "ipython3",
   "version": "3.10.1"
  },
  "orig_nbformat": 4
 },
 "nbformat": 4,
 "nbformat_minor": 2
}
