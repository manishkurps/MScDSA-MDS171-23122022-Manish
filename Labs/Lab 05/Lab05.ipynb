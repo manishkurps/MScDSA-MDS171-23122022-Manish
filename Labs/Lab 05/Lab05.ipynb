{
 "cells": [
  {
   "cell_type": "markdown",
   "metadata": {},
   "source": [
    "Lab05 : Mix & Match Calculator"
   ]
  },
  {
   "cell_type": "code",
   "execution_count": null,
   "metadata": {},
   "outputs": [],
   "source": [
    "import random\n",
    "listitem = [\"Sugar\",\"Salt\",\"Biscuits\",\"Chips\",\"Bread\",\"Vgetables\",\"Fruits\",\"Chocolates\",\"Flour\",\"Rice\"]\n",
    "listquantity = [\"5\",\"2\",\"10\",\"4\",\"3\",\"7\",\"2\",\"20\",\"10\",\"15\"]\n",
    "listprice = [\"550\",\"40\",\"100\",\"40\",\"120\",\"210\",\"180\",\"400\",\"500\",\"600\"]\n",
    "\n",
    "file = open(\"23122022.csv\",\"a+\")\n",
    "file.write(f\"Item Name,Quantity,Price\")\n",
    "for i in range(0,99):\n",
    "    r1 = random.randint(0,9)\n",
    "    file = open(\"23122022.csv\",\"a+\")\n",
    "    file.write(f\"\\n{listitem[r1]},{listquantity[r1]},{listprice[r1]}\")\n",
    "    file.close()"
   ]
  },
  {
   "cell_type": "code",
   "execution_count": null,
   "metadata": {},
   "outputs": [],
   "source": [
    "total_costs = []\n",
    "\n",
    "with open('23122022.csv', 'r') as file:\n",
    "    next(file) \n",
    "    for line in file:\n",
    "        listitem, listquantity, listprice = line.strip().split(',')\n",
    "        total_cost = float(listquantity) * float(listprice)\n",
    "        total_costs.append(total_cost)\n",
    "\n",
    "print(\"Total cost for the first 5 rows:\")\n",
    "for i in range(5):\n",
    "    print(f\"Row {i + 1}: {total_costs[i]:.2f}\")\n",
    "\n",
    "print(\"\\nTotal cost for the last 10 rows:\")\n",
    "for i in range(-10, 0):\n",
    "    print(f\"Row {100 + i + 1}: {total_costs[i]:.2f}\")\n",
    "\n",
    "item_totals = {}\n",
    "\n",
    "with open('23122022.csv', 'r') as file:\n",
    "    next(file)  \n",
    "    for line in file:\n",
    "        listitem, listquantity, listprice = line.strip().split(',')\n",
    "        total_cost = float(listquantity) * float(listprice)\n",
    "        if listitem in item_totals:\n",
    "            item_totals[listitem] += total_cost\n",
    "        else:\n",
    "            item_totals[listitem] = total_cost\n",
    "\n",
    "print(\"\\nItem Name | Total Quantity | Total\")\n",
    "for item, total_cost in item_totals.items():\n",
    "    total_quantity = sum(listquantity[i] for i in range(10) if listitem[i] == item)\n",
    "    print(f\"{item} | {total_quantity} | {total_cost:.2f}\")\n",
    "\n",
    "print(\"\\nMinimum and Maximum Price for Each Item Sold:\")\n",
    "for item in listitem:\n",
    "    item_prices = [float(listprice[i]) for i in range(10) if listitem[i] == item]\n",
    "    if item_prices:\n",
    "        min_price = min(item_prices)\n",
    "        max_price = max(item_prices)\n",
    "        print(f\"{item}: Min Price {min_price:.2f}, Max Price {max_price:.2f}\")\n",
    "\n"
   ]
  }
 ],
 "metadata": {
  "kernelspec": {
   "display_name": "Python 3",
   "language": "python",
   "name": "python3"
  },
  "language_info": {
   "codemirror_mode": {
    "name": "ipython",
    "version": 3
   },
   "file_extension": ".py",
   "mimetype": "text/x-python",
   "name": "python",
   "nbconvert_exporter": "python",
   "pygments_lexer": "ipython3",
   "version": "3.10.1"
  },
  "orig_nbformat": 4
 },
 "nbformat": 4,
 "nbformat_minor": 2
}
